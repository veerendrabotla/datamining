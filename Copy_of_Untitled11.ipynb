{
  "nbformat": 4,
  "nbformat_minor": 0,
  "metadata": {
    "colab": {
      "provenance": [],
      "authorship_tag": "ABX9TyNDh3YfJMnjPSutLDonwT5/",
      "include_colab_link": true
    },
    "kernelspec": {
      "name": "python3",
      "display_name": "Python 3"
    },
    "language_info": {
      "name": "python"
    }
  },
  "cells": [
    {
      "cell_type": "markdown",
      "metadata": {
        "id": "view-in-github",
        "colab_type": "text"
      },
      "source": [
        "<a href=\"https://colab.research.google.com/github/veerendrabotla/datamining/blob/main/Copy_of_Untitled11.ipynb\" target=\"_parent\"><img src=\"https://colab.research.google.com/assets/colab-badge.svg\" alt=\"Open In Colab\"/></a>"
      ]
    },
    {
      "cell_type": "markdown",
      "source": [
        "**Find-S Algorithm**"
      ],
      "metadata": {
        "id": "37spMLgD806w"
      }
    },
    {
      "cell_type": "code",
      "source": [
        "pip install pandas"
      ],
      "metadata": {
        "id": "XCm0_tFb_40_"
      },
      "execution_count": null,
      "outputs": []
    },
    {
      "cell_type": "code",
      "source": [
        "pip install numpy"
      ],
      "metadata": {
        "id": "nnEw1QsxACDf"
      },
      "execution_count": null,
      "outputs": []
    },
    {
      "cell_type": "code",
      "source": [
        "import pandas as pd\n",
        "import numpy as np\n",
        "data=pd.read_excel('/content/data.xlsx')\n",
        "print(data)"
      ],
      "metadata": {
        "colab": {
          "base_uri": "https://localhost:8080/"
        },
        "id": "IffHm_Gh8zhZ",
        "outputId": "e2e93ff1-7cc1-47fd-992c-12594973e1e3"
      },
      "execution_count": null,
      "outputs": [
        {
          "output_type": "stream",
          "name": "stdout",
          "text": [
            "  Data Set: Unnamed: 1 Unnamed: 2 Unnamed: 3 Unnamed: 4 Unnamed: 5  \\\n",
            "0       sky   air temp   humidity       wind      water   forecast   \n",
            "1     sunny       warm     normal     strong       warm       same   \n",
            "2     sunny       warm       high     strong       warm       same   \n",
            "3     rainy       cold       high     strong       warm     change   \n",
            "4     sunny       warm       high     strong       cool     change   \n",
            "\n",
            "    Unnamed: 6  \n",
            "0  enjoy sport  \n",
            "1          yes  \n",
            "2          yes  \n",
            "3           no  \n",
            "4          yes  \n"
          ]
        }
      ]
    },
    {
      "cell_type": "code",
      "source": [
        "concepts=np.array(data)[:,:-1]\n",
        "target=np.array(data)[:,-1]\n",
        "print(\"\\n concepts\")\n",
        "print(concepts)\n",
        "print(\"target\")\n",
        "print(target)\n"
      ],
      "metadata": {
        "colab": {
          "base_uri": "https://localhost:8080/"
        },
        "id": "-QBlfGA4_7p4",
        "outputId": "70d362b9-67c6-4c8d-982b-3ac4f338bf59"
      },
      "execution_count": null,
      "outputs": [
        {
          "output_type": "stream",
          "name": "stdout",
          "text": [
            "\n",
            " concepts\n",
            "[['sky' 'air temp' 'humidity' 'wind' 'water' 'forecast']\n",
            " ['sunny' 'warm' 'normal' 'strong' 'warm' 'same']\n",
            " ['sunny' 'warm' 'high' 'strong' 'warm' 'same']\n",
            " ['rainy' 'cold' 'high' 'strong' 'warm' 'change']\n",
            " ['sunny' 'warm' 'high' 'strong' 'cool' 'change']]\n",
            "target\n",
            "['enjoy sport' 'yes' 'yes' 'no' 'yes']\n"
          ]
        }
      ]
    },
    {
      "cell_type": "code",
      "source": [
        "def train(con,tar):\n",
        "  for i,val in enumerate(tar):\n",
        "    if val=='yes':\n",
        "      specific_h=con[i].copy()\n",
        "      break\n",
        "  for i,val in enumerate(con):\n",
        "    if tar[i]=='yes':\n",
        "      for x in range(len(specific_h)):\n",
        "        if val[x]!=specific_h[x]:\n",
        "          specific_h[x]='?'\n",
        "      print(f'\\n Hypothesis after example{i+1}:{specific_h}')\n",
        "      return specific_h\n",
        "specific_hypothesis=train(concepts,target)\n",
        "print(\"\\n final hypothesis\")\n",
        "print(specific_hypothesis)\n",
        "\n"
      ],
      "metadata": {
        "colab": {
          "base_uri": "https://localhost:8080/"
        },
        "id": "G47AQgkP_70o",
        "outputId": "dbd8377e-79fb-4b1d-9f80-ff189ae54468"
      },
      "execution_count": null,
      "outputs": [
        {
          "output_type": "stream",
          "name": "stdout",
          "text": [
            "\n",
            " Hypothesis after example2:['sunny' 'warm' 'normal' 'strong' 'warm' 'same']\n",
            "\n",
            " final hypothesis\n",
            "['sunny' 'warm' 'normal' 'strong' 'warm' 'same']\n"
          ]
        }
      ]
    }
  ]
}